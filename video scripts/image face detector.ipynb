{
 "cells": [
  {
   "cell_type": "code",
   "execution_count": 1,
   "id": "5d8c05ca",
   "metadata": {},
   "outputs": [
    {
     "name": "stdout",
     "output_type": "stream",
     "text": [
      "code completed\n"
     ]
    }
   ],
   "source": [
    "'''import cv2\n",
    "from random import randrange\n",
    "trained_face_data = cv2.CascadeClassifier('haarcascade_frontalface_default.xml')\n",
    "img=cv2.imread('image11.jpg')\n",
    "grayscaled_img = cv2.cvtColor(img, cv2.COLOR_RGB2GRAY)\n",
    "face_coordinates = trained_face_data.detectMultiScale(grayscaled_img)\n",
    "for(x,y,w,h) in face_coordinates:\n",
    "    cv2.rectangle(img,(x,y),(x+w, y+h),(randrange(128),randrange(128),randrange(128)),10)\n",
    "cv2.imshow('Austin face detector',img)\n",
    "cv2.waitKey(0)\n",
    "cv2.destroyAllWindows()\n",
    "print('code completed')'''\n",
    "\n",
    "import cv2\n",
    "from random import randrange\n",
    "\n",
    "def draw_found_faces(detected, image, color: tuple):\n",
    "    for (x, y, width, height) in detected:\n",
    "        cv2.rectangle(\n",
    "            image,\n",
    "            (x, y),\n",
    "            (x + width, y + height),\n",
    "            color,\n",
    "            thickness=2\n",
    "        )\n",
    "\n",
    "path_to_image = 'image7.jpg'\n",
    "original_image = cv2.imread(path_to_image)\n",
    "\n",
    "if original_image is not None:\n",
    "    # Convert image to grayscale\n",
    "    image = cv2.cvtColor(original_image, cv2.COLOR_BGR2GRAY)\n",
    "\n",
    "    # Create Cascade Classifiers\n",
    "    face_cascade = cv2.CascadeClassifier(cv2.data.haarcascades + \"haarcascade_frontalface_default.xml\")\n",
    "    profile_cascade = cv2.CascadeClassifier(cv2.data.haarcascades + \"haarcascade_profileface.xml\")\n",
    "    eye_cascade = cv2.CascadeClassifier(cv2.data.haarcascades + \"haarcascade_eye_tree_eyeglasses.xml\")\n",
    "    \n",
    "    # Detect faces using the classifiers\n",
    "    detected_faces = face_cascade.detectMultiScale(image=image, scaleFactor=1.3, minNeighbors=4)\n",
    "    detected_profiles = profile_cascade.detectMultiScale(image=image, scaleFactor=1.3, minNeighbors=4)\n",
    "    detected_eyes = eye_cascade.detectMultiScale(image=image, scaleFactor=1.3, minNeighbors=4)\n",
    "\n",
    "    # Filter out profiles\n",
    "    profiles_not_faces = [x for x in detected_profiles if x not in detected_faces]\n",
    "\n",
    "    # Draw rectangles around faces on the original, colored image\n",
    "    draw_found_faces(detected_faces, original_image, (randrange(256),randrange(256),randrange(256))) # RGB - green\n",
    "    draw_found_faces(detected_profiles, original_image, (randrange(256),randrange(256),randrange(256))) # RGB - red\n",
    "    draw_found_faces(detected_eyes, original_image, (randrange(256),randrange(256),randrange(256)))\n",
    "\n",
    "    # Open a window to display the results\n",
    "    cv2.imshow(f'Detected Faces in {path_to_image}', original_image)\n",
    "    # The window will close as soon as any key is pressed (not a mouse click)\n",
    "    cv2.waitKey(0) \n",
    "    cv2.destroyAllWindows()\n",
    "else:\n",
    "    print(f'En error occurred while trying to load {path_to_image}')\n",
    "    \n",
    "print('code completed')"
   ]
  },
  {
   "cell_type": "code",
   "execution_count": null,
   "id": "7f092805",
   "metadata": {},
   "outputs": [],
   "source": []
  },
  {
   "cell_type": "code",
   "execution_count": null,
   "id": "b39094e5-87e6-41bf-9cb6-662b42771267",
   "metadata": {},
   "outputs": [],
   "source": []
  }
 ],
 "metadata": {
  "kernelspec": {
   "display_name": "Python 3",
   "language": "python",
   "name": "python3"
  },
  "language_info": {
   "codemirror_mode": {
    "name": "ipython",
    "version": 3
   },
   "file_extension": ".py",
   "mimetype": "text/x-python",
   "name": "python",
   "nbconvert_exporter": "python",
   "pygments_lexer": "ipython3",
   "version": "3.8.8"
  }
 },
 "nbformat": 4,
 "nbformat_minor": 5
}
